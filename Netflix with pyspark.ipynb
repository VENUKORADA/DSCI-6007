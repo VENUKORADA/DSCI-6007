{
 "cells": [
  {
   "cell_type": "code",
   "execution_count": 1,
   "metadata": {},
   "outputs": [
    {
     "data": {
      "application/vnd.jupyter.widget-view+json": {
       "model_id": "ad01a0805fae406c84d3edd74c4ed160",
       "version_major": 2,
       "version_minor": 0
      },
      "text/plain": [
       "VBox()"
      ]
     },
     "metadata": {},
     "output_type": "display_data"
    },
    {
     "name": "stdout",
     "output_type": "stream",
     "text": [
      "Starting Spark application\n"
     ]
    },
    {
     "data": {
      "text/html": [
       "<table>\n",
       "<tr><th>ID</th><th>YARN Application ID</th><th>Kind</th><th>State</th><th>Spark UI</th><th>Driver log</th><th>Current session?</th></tr><tr><td>10</td><td>application_1589213110926_0011</td><td>pyspark</td><td>idle</td><td><a target=\"_blank\" href=\"http://ip-172-31-41-27.ec2.internal:20888/proxy/application_1589213110926_0011/\">Link</a></td><td><a target=\"_blank\" href=\"http://ip-172-31-37-225.ec2.internal:8042/node/containerlogs/container_1589213110926_0011_01_000001/livy\">Link</a></td><td>✔</td></tr></table>"
      ],
      "text/plain": [
       "<IPython.core.display.HTML object>"
      ]
     },
     "metadata": {},
     "output_type": "display_data"
    },
    {
     "data": {
      "application/vnd.jupyter.widget-view+json": {
       "model_id": "",
       "version_major": 2,
       "version_minor": 0
      },
      "text/plain": [
       "FloatProgress(value=0.0, bar_style='info', description='Progress:', layout=Layout(height='25px', width='50%'),…"
      ]
     },
     "metadata": {},
     "output_type": "display_data"
    },
    {
     "name": "stdout",
     "output_type": "stream",
     "text": [
      "SparkSession available as 'spark'.\n"
     ]
    },
    {
     "data": {
      "application/vnd.jupyter.widget-view+json": {
       "model_id": "",
       "version_major": 2,
       "version_minor": 0
      },
      "text/plain": [
       "FloatProgress(value=0.0, bar_style='info', description='Progress:', layout=Layout(height='25px', width='50%'),…"
      ]
     },
     "metadata": {},
     "output_type": "display_data"
    }
   ],
   "source": [
    "import pyspark"
   ]
  },
  {
   "cell_type": "code",
   "execution_count": 2,
   "metadata": {},
   "outputs": [
    {
     "data": {
      "application/vnd.jupyter.widget-view+json": {
       "model_id": "12968ec48da9466cac45759b488d57ba",
       "version_major": 2,
       "version_minor": 0
      },
      "text/plain": [
       "VBox()"
      ]
     },
     "metadata": {},
     "output_type": "display_data"
    },
    {
     "data": {
      "application/vnd.jupyter.widget-view+json": {
       "model_id": "",
       "version_major": 2,
       "version_minor": 0
      },
      "text/plain": [
       "FloatProgress(value=0.0, bar_style='info', description='Progress:', layout=Layout(height='25px', width='50%'),…"
      ]
     },
     "metadata": {},
     "output_type": "display_data"
    }
   ],
   "source": [
    "from pyspark.sql import Row\n",
    "from pyspark.sql import *"
   ]
  },
  {
   "cell_type": "code",
   "execution_count": 4,
   "metadata": {},
   "outputs": [
    {
     "data": {
      "application/vnd.jupyter.widget-view+json": {
       "model_id": "2e9b1285ec1248e5a77e4267adeb1caa",
       "version_major": 2,
       "version_minor": 0
      },
      "text/plain": [
       "VBox()"
      ]
     },
     "metadata": {},
     "output_type": "display_data"
    },
    {
     "data": {
      "application/vnd.jupyter.widget-view+json": {
       "model_id": "",
       "version_major": 2,
       "version_minor": 0
      },
      "text/plain": [
       "FloatProgress(value=0.0, bar_style='info', description='Progress:', layout=Layout(height='25px', width='50%'),…"
      ]
     },
     "metadata": {},
     "output_type": "display_data"
    }
   ],
   "source": [
    "a = spark.read.text(\"s3://aws-emr-resources-934698406850-us-east-1/TrainingRatings.txt\").rdd\n",
    "b = a.map(lambda row: row.value.split(\",\"))\n",
    "c = b.map(lambda p: Row(MovieID=int(p[0]), CustomerId=int(p[1]),\n",
    "                                     Rating=float(p[2])))\n"
   ]
  },
  {
   "cell_type": "code",
   "execution_count": 7,
   "metadata": {},
   "outputs": [
    {
     "data": {
      "application/vnd.jupyter.widget-view+json": {
       "model_id": "1717a67986aa41d6a696bd9bd586e5cc",
       "version_major": 2,
       "version_minor": 0
      },
      "text/plain": [
       "VBox()"
      ]
     },
     "metadata": {},
     "output_type": "display_data"
    },
    {
     "data": {
      "application/vnd.jupyter.widget-view+json": {
       "model_id": "",
       "version_major": 2,
       "version_minor": 0
      },
      "text/plain": [
       "FloatProgress(value=0.0, bar_style='info', description='Progress:', layout=Layout(height='25px', width='50%'),…"
      ]
     },
     "metadata": {},
     "output_type": "display_data"
    }
   ],
   "source": [
    "df = spark.createDataFrame(c)"
   ]
  },
  {
   "cell_type": "code",
   "execution_count": 8,
   "metadata": {},
   "outputs": [
    {
     "data": {
      "application/vnd.jupyter.widget-view+json": {
       "model_id": "4f5cd3c86e0f4065b13eea36b5abef16",
       "version_major": 2,
       "version_minor": 0
      },
      "text/plain": [
       "VBox()"
      ]
     },
     "metadata": {},
     "output_type": "display_data"
    },
    {
     "data": {
      "application/vnd.jupyter.widget-view+json": {
       "model_id": "",
       "version_major": 2,
       "version_minor": 0
      },
      "text/plain": [
       "FloatProgress(value=0.0, bar_style='info', description='Progress:', layout=Layout(height='25px', width='50%'),…"
      ]
     },
     "metadata": {},
     "output_type": "display_data"
    },
    {
     "name": "stdout",
     "output_type": "stream",
     "text": [
      "Collecting pandas==1.0.3\n",
      "  Using cached pandas-1.0.3-cp36-cp36m-manylinux1_x86_64.whl (10.0 MB)\n",
      "Collecting python-dateutil>=2.6.1\n",
      "  Using cached python_dateutil-2.8.1-py2.py3-none-any.whl (227 kB)\n",
      "Requirement already satisfied: numpy>=1.13.3 in /usr/local/lib64/python3.6/site-packages (from pandas==1.0.3) (1.14.5)\n",
      "Requirement already satisfied: pytz>=2017.2 in /usr/local/lib/python3.6/site-packages (from pandas==1.0.3) (2019.3)\n",
      "Requirement already satisfied: six>=1.5 in /usr/local/lib/python3.6/site-packages (from python-dateutil>=2.6.1->pandas==1.0.3) (1.13.0)\n",
      "Installing collected packages: python-dateutil, pandas\n",
      "Successfully installed pandas-1.0.3 python-dateutil-2.8.1"
     ]
    }
   ],
   "source": [
    "sc.install_pypi_package(\"pandas==1.0.3\")"
   ]
  },
  {
   "cell_type": "code",
   "execution_count": 9,
   "metadata": {},
   "outputs": [
    {
     "data": {
      "application/vnd.jupyter.widget-view+json": {
       "model_id": "5bc9dbb1661f4b4c9c02797afebe200e",
       "version_major": 2,
       "version_minor": 0
      },
      "text/plain": [
       "VBox()"
      ]
     },
     "metadata": {},
     "output_type": "display_data"
    },
    {
     "data": {
      "application/vnd.jupyter.widget-view+json": {
       "model_id": "",
       "version_major": 2,
       "version_minor": 0
      },
      "text/plain": [
       "FloatProgress(value=0.0, bar_style='info', description='Progress:', layout=Layout(height='25px', width='50%'),…"
      ]
     },
     "metadata": {},
     "output_type": "display_data"
    }
   ],
   "source": [
    "import numpy as np\n",
    "import pandas as pd\n",
    "Test = df.select(\"*\").toPandas()"
   ]
  },
  {
   "cell_type": "code",
   "execution_count": 10,
   "metadata": {},
   "outputs": [
    {
     "data": {
      "application/vnd.jupyter.widget-view+json": {
       "model_id": "5bacf063b4684166ba3fc19b164545df",
       "version_major": 2,
       "version_minor": 0
      },
      "text/plain": [
       "VBox()"
      ]
     },
     "metadata": {},
     "output_type": "display_data"
    },
    {
     "data": {
      "application/vnd.jupyter.widget-view+json": {
       "model_id": "",
       "version_major": 2,
       "version_minor": 0
      },
      "text/plain": [
       "FloatProgress(value=0.0, bar_style='info', description='Progress:', layout=Layout(height='25px', width='50%'),…"
      ]
     },
     "metadata": {},
     "output_type": "display_data"
    }
   ],
   "source": [
    "train=Test"
   ]
  },
  {
   "cell_type": "code",
   "execution_count": 11,
   "metadata": {},
   "outputs": [
    {
     "data": {
      "application/vnd.jupyter.widget-view+json": {
       "model_id": "00e527855eaa4814aad07a9af0f5ec65",
       "version_major": 2,
       "version_minor": 0
      },
      "text/plain": [
       "VBox()"
      ]
     },
     "metadata": {},
     "output_type": "display_data"
    },
    {
     "data": {
      "application/vnd.jupyter.widget-view+json": {
       "model_id": "",
       "version_major": 2,
       "version_minor": 0
      },
      "text/plain": [
       "FloatProgress(value=0.0, bar_style='info', description='Progress:', layout=Layout(height='25px', width='50%'),…"
      ]
     },
     "metadata": {},
     "output_type": "display_data"
    },
    {
     "name": "stdout",
     "output_type": "stream",
     "text": [
      "   CustomerId  MovieID  Rating\n",
      "0     1744889        8     1.0\n",
      "1     1395430        8     2.0\n",
      "2     1205593        8     4.0\n",
      "3     1488844        8     4.0\n",
      "4     1447354        8     1.0"
     ]
    }
   ],
   "source": [
    "train.head()"
   ]
  },
  {
   "cell_type": "code",
   "execution_count": 12,
   "metadata": {},
   "outputs": [
    {
     "data": {
      "application/vnd.jupyter.widget-view+json": {
       "model_id": "048f69f811ef4778a919dfb97c406f82",
       "version_major": 2,
       "version_minor": 0
      },
      "text/plain": [
       "VBox()"
      ]
     },
     "metadata": {},
     "output_type": "display_data"
    },
    {
     "data": {
      "application/vnd.jupyter.widget-view+json": {
       "model_id": "",
       "version_major": 2,
       "version_minor": 0
      },
      "text/plain": [
       "FloatProgress(value=0.0, bar_style='info', description='Progress:', layout=Layout(height='25px', width='50%'),…"
      ]
     },
     "metadata": {},
     "output_type": "display_data"
    }
   ],
   "source": [
    "d = spark.read.text(\"s3://aws-emr-resources-934698406850-us-east-1/TestingRatings.txt\").rdd\n",
    "e = d.map(lambda row: row.value.split(\",\"))\n",
    "f = e.map(lambda p: Row(MovieID=int(p[0]), CustomerId=int(p[1]),\n",
    "                                     Rating=float(p[2])))\n",
    "\n"
   ]
  },
  {
   "cell_type": "code",
   "execution_count": 13,
   "metadata": {},
   "outputs": [
    {
     "data": {
      "application/vnd.jupyter.widget-view+json": {
       "model_id": "69e293aff6cb4ef5959aac3b8725c740",
       "version_major": 2,
       "version_minor": 0
      },
      "text/plain": [
       "VBox()"
      ]
     },
     "metadata": {},
     "output_type": "display_data"
    },
    {
     "data": {
      "application/vnd.jupyter.widget-view+json": {
       "model_id": "",
       "version_major": 2,
       "version_minor": 0
      },
      "text/plain": [
       "FloatProgress(value=0.0, bar_style='info', description='Progress:', layout=Layout(height='25px', width='50%'),…"
      ]
     },
     "metadata": {},
     "output_type": "display_data"
    }
   ],
   "source": [
    "Train = spark.createDataFrame(f)"
   ]
  },
  {
   "cell_type": "code",
   "execution_count": 14,
   "metadata": {},
   "outputs": [
    {
     "data": {
      "application/vnd.jupyter.widget-view+json": {
       "model_id": "63c10e10a2dd442fbe381dd21f736e15",
       "version_major": 2,
       "version_minor": 0
      },
      "text/plain": [
       "VBox()"
      ]
     },
     "metadata": {},
     "output_type": "display_data"
    },
    {
     "data": {
      "application/vnd.jupyter.widget-view+json": {
       "model_id": "",
       "version_major": 2,
       "version_minor": 0
      },
      "text/plain": [
       "FloatProgress(value=0.0, bar_style='info', description='Progress:', layout=Layout(height='25px', width='50%'),…"
      ]
     },
     "metadata": {},
     "output_type": "display_data"
    }
   ],
   "source": [
    "test = Train.select(\"*\").toPandas()"
   ]
  },
  {
   "cell_type": "code",
   "execution_count": 15,
   "metadata": {},
   "outputs": [
    {
     "data": {
      "application/vnd.jupyter.widget-view+json": {
       "model_id": "612cdd42d69749a3a91b2a381e4b70ea",
       "version_major": 2,
       "version_minor": 0
      },
      "text/plain": [
       "VBox()"
      ]
     },
     "metadata": {},
     "output_type": "display_data"
    },
    {
     "data": {
      "application/vnd.jupyter.widget-view+json": {
       "model_id": "",
       "version_major": 2,
       "version_minor": 0
      },
      "text/plain": [
       "FloatProgress(value=0.0, bar_style='info', description='Progress:', layout=Layout(height='25px', width='50%'),…"
      ]
     },
     "metadata": {},
     "output_type": "display_data"
    },
    {
     "name": "stdout",
     "output_type": "stream",
     "text": [
      "   CustomerId  MovieID  Rating\n",
      "0      573364        8     1.0\n",
      "1     2149668        8     3.0\n",
      "2     1089184        8     3.0\n",
      "3     2465894        8     3.0\n",
      "4      534508        8     1.0"
     ]
    }
   ],
   "source": [
    "test.head()"
   ]
  },
  {
   "cell_type": "code",
   "execution_count": 16,
   "metadata": {},
   "outputs": [
    {
     "data": {
      "application/vnd.jupyter.widget-view+json": {
       "model_id": "e7b9d203849140cca65c0d76d6f7638d",
       "version_major": 2,
       "version_minor": 0
      },
      "text/plain": [
       "VBox()"
      ]
     },
     "metadata": {},
     "output_type": "display_data"
    },
    {
     "data": {
      "application/vnd.jupyter.widget-view+json": {
       "model_id": "",
       "version_major": 2,
       "version_minor": 0
      },
      "text/plain": [
       "FloatProgress(value=0.0, bar_style='info', description='Progress:', layout=Layout(height='25px', width='50%'),…"
      ]
     },
     "metadata": {},
     "output_type": "display_data"
    },
    {
     "name": "stdout",
     "output_type": "stream",
     "text": [
      "(3255352, 3)"
     ]
    }
   ],
   "source": [
    "train.shape"
   ]
  },
  {
   "cell_type": "code",
   "execution_count": 17,
   "metadata": {},
   "outputs": [
    {
     "data": {
      "application/vnd.jupyter.widget-view+json": {
       "model_id": "b36a3fa5b96e4baf982a4a1d1f80d6a7",
       "version_major": 2,
       "version_minor": 0
      },
      "text/plain": [
       "VBox()"
      ]
     },
     "metadata": {},
     "output_type": "display_data"
    },
    {
     "data": {
      "application/vnd.jupyter.widget-view+json": {
       "model_id": "",
       "version_major": 2,
       "version_minor": 0
      },
      "text/plain": [
       "FloatProgress(value=0.0, bar_style='info', description='Progress:', layout=Layout(height='25px', width='50%'),…"
      ]
     },
     "metadata": {},
     "output_type": "display_data"
    },
    {
     "name": "stdout",
     "output_type": "stream",
     "text": [
      "(100478, 3)"
     ]
    }
   ],
   "source": [
    "test.shape"
   ]
  },
  {
   "cell_type": "code",
   "execution_count": 18,
   "metadata": {},
   "outputs": [
    {
     "data": {
      "application/vnd.jupyter.widget-view+json": {
       "model_id": "00fd7cf6775245b1ac1f8caa0425db2f",
       "version_major": 2,
       "version_minor": 0
      },
      "text/plain": [
       "VBox()"
      ]
     },
     "metadata": {},
     "output_type": "display_data"
    },
    {
     "data": {
      "application/vnd.jupyter.widget-view+json": {
       "model_id": "",
       "version_major": 2,
       "version_minor": 0
      },
      "text/plain": [
       "FloatProgress(value=0.0, bar_style='info', description='Progress:', layout=Layout(height='25px', width='50%'),…"
      ]
     },
     "metadata": {},
     "output_type": "display_data"
    },
    {
     "name": "stdout",
     "output_type": "stream",
     "text": [
      "Collecting matplotlib\n",
      "  Downloading matplotlib-3.2.1-cp36-cp36m-manylinux1_x86_64.whl (12.4 MB)\n",
      "Collecting pyparsing!=2.0.4,!=2.1.2,!=2.1.6,>=2.0.1\n",
      "  Downloading pyparsing-2.4.7-py2.py3-none-any.whl (67 kB)\n",
      "Requirement already satisfied: numpy>=1.11 in /usr/local/lib64/python3.6/site-packages (from matplotlib) (1.14.5)\n",
      "Requirement already satisfied: python-dateutil>=2.1 in /mnt/tmp/1589341181221-0/lib/python3.6/site-packages (from matplotlib) (2.8.1)\n",
      "Collecting kiwisolver>=1.0.1\n",
      "  Downloading kiwisolver-1.2.0-cp36-cp36m-manylinux1_x86_64.whl (88 kB)\n",
      "Collecting cycler>=0.10\n",
      "  Downloading cycler-0.10.0-py2.py3-none-any.whl (6.5 kB)\n",
      "Requirement already satisfied: six>=1.5 in /usr/local/lib/python3.6/site-packages (from python-dateutil>=2.1->matplotlib) (1.13.0)\n",
      "Installing collected packages: pyparsing, kiwisolver, cycler, matplotlib\n",
      "Successfully installed cycler-0.10.0 kiwisolver-1.2.0 matplotlib-3.2.1 pyparsing-2.4.7"
     ]
    }
   ],
   "source": [
    "sc.install_pypi_package(\"matplotlib\", \"https://pypi.org/simple\")"
   ]
  },
  {
   "cell_type": "code",
   "execution_count": 19,
   "metadata": {},
   "outputs": [
    {
     "data": {
      "application/vnd.jupyter.widget-view+json": {
       "model_id": "6c6a9482ed174d4098d86e9d02c65baf",
       "version_major": 2,
       "version_minor": 0
      },
      "text/plain": [
       "VBox()"
      ]
     },
     "metadata": {},
     "output_type": "display_data"
    },
    {
     "data": {
      "application/vnd.jupyter.widget-view+json": {
       "model_id": "",
       "version_major": 2,
       "version_minor": 0
      },
      "text/plain": [
       "FloatProgress(value=0.0, bar_style='info', description='Progress:', layout=Layout(height='25px', width='50%'),…"
      ]
     },
     "metadata": {},
     "output_type": "display_data"
    }
   ],
   "source": [
    "import matplotlib as plt"
   ]
  },
  {
   "cell_type": "code",
   "execution_count": 25,
   "metadata": {},
   "outputs": [
    {
     "data": {
      "application/vnd.jupyter.widget-view+json": {
       "model_id": "332fa6eac6e44413bc5a0add567a9248",
       "version_major": 2,
       "version_minor": 0
      },
      "text/plain": [
       "VBox()"
      ]
     },
     "metadata": {},
     "output_type": "display_data"
    },
    {
     "data": {
      "application/vnd.jupyter.widget-view+json": {
       "model_id": "",
       "version_major": 2,
       "version_minor": 0
      },
      "text/plain": [
       "FloatProgress(value=0.0, bar_style='info', description='Progress:', layout=Layout(height='25px', width='50%'),…"
      ]
     },
     "metadata": {},
     "output_type": "display_data"
    },
    {
     "name": "stdout",
     "output_type": "stream",
     "text": [
      "Total plot of testing file has unique values of : 1,701 Movies, 25,854 customers, 98,777 ratings given"
     ]
    }
   ],
   "source": [
    "pn = test.groupby('Rating')['Rating'].agg(['count'])\n",
    "\n",
    "# getting the  movie count as unique to plot\n",
    "movie_count = test['MovieID'].nunique()\n",
    "\n",
    "# getting the customer count as unique so that we dont go across it again\n",
    "cust_count = test['CustomerId'].nunique() - movie_count\n",
    "\n",
    "# getting the rating count\n",
    "rating_count = test['Rating'].count() - movie_count\n",
    "\n",
    "ax = pn.plot(kind = 'barh', legend = False, figsize = (15,10))\n",
    "print('Total plot of testing file has unique values of : {:,} Movies, {:,} customers, {:,} ratings given'.format(movie_count, cust_count, rating_count))\n"
   ]
  },
  {
   "cell_type": "code",
   "execution_count": 27,
   "metadata": {},
   "outputs": [
    {
     "data": {
      "application/vnd.jupyter.widget-view+json": {
       "model_id": "0243f0c2c74d43829c28ea946e7bb0bb",
       "version_major": 2,
       "version_minor": 0
      },
      "text/plain": [
       "VBox()"
      ]
     },
     "metadata": {},
     "output_type": "display_data"
    },
    {
     "data": {
      "application/vnd.jupyter.widget-view+json": {
       "model_id": "",
       "version_major": 2,
       "version_minor": 0
      },
      "text/plain": [
       "FloatProgress(value=0.0, bar_style='info', description='Progress:', layout=Layout(height='25px', width='50%'),…"
      ]
     },
     "metadata": {},
     "output_type": "display_data"
    },
    {
     "name": "stdout",
     "output_type": "stream",
     "text": [
      "Total plot of training file has unique values of : 1,821 Movies, 27,157 customers, 3,253,531 ratings given"
     ]
    }
   ],
   "source": [
    "pn = train.groupby('Rating')['Rating'].agg(['count'])\n",
    "\n",
    "# getting the  movie count as unique to plot\n",
    "movie_count = train['MovieID'].nunique()\n",
    "\n",
    "# getting the customer count as unique so that we dont go across it again\n",
    "cust_count = train['CustomerId'].nunique() - movie_count\n",
    "\n",
    "# getting the rating count\n",
    "rating_count = train['Rating'].count() - movie_count\n",
    "\n",
    "ax = pn.plot(kind = 'barh', legend = False, figsize = (15,10))\n",
    "print('Total plot of training file has unique values of : {:,} Movies, {:,} customers, {:,} ratings given'.format(movie_count, cust_count, rating_count))\n",
    "\n"
   ]
  },
  {
   "cell_type": "code",
   "execution_count": null,
   "metadata": {},
   "outputs": [],
   "source": [
    "train_title = pd.read_csv('movie_titles.txt', encoding = \"ISO-8859-1\", header = None, names = ['Movie_Id', 'Year', 'Name'])\n",
    "df_title.set_index('Movie_Id', inplace = True)\n",
    "print (df_title.head(10))"
   ]
  },
  {
   "cell_type": "code",
   "execution_count": 45,
   "metadata": {},
   "outputs": [
    {
     "data": {
      "application/vnd.jupyter.widget-view+json": {
       "model_id": "a7a5d5f588a7474cbe984cd71474e609",
       "version_major": 2,
       "version_minor": 0
      },
      "text/plain": [
       "VBox()"
      ]
     },
     "metadata": {},
     "output_type": "display_data"
    },
    {
     "data": {
      "application/vnd.jupyter.widget-view+json": {
       "model_id": "",
       "version_major": 2,
       "version_minor": 0
      },
      "text/plain": [
       "FloatProgress(value=0.0, bar_style='info', description='Progress:', layout=Layout(height='25px', width='50%'),…"
      ]
     },
     "metadata": {},
     "output_type": "display_data"
    }
   ],
   "source": [
    "a3 = spark.read.text(\"s3://aws-emr-resources-934698406850-us-east-1/movie_titles.txt\").rdd\n",
    "b3 = a3.map(lambda row: row.value.split(\",\"))\n",
    "c3 = b3.map(lambda p: Row(MovieID=(p[0]), Year=(p[1]),\n",
    "                                     Name=(p[2])))"
   ]
  },
  {
   "cell_type": "code",
   "execution_count": null,
   "metadata": {},
   "outputs": [],
   "source": [
    "'Movie_Id', 'Year', 'Name'"
   ]
  },
  {
   "cell_type": "code",
   "execution_count": 46,
   "metadata": {},
   "outputs": [
    {
     "data": {
      "application/vnd.jupyter.widget-view+json": {
       "model_id": "a6e513bb252148a3b2b596ebd4bdda7f",
       "version_major": 2,
       "version_minor": 0
      },
      "text/plain": [
       "VBox()"
      ]
     },
     "metadata": {},
     "output_type": "display_data"
    },
    {
     "data": {
      "application/vnd.jupyter.widget-view+json": {
       "model_id": "",
       "version_major": 2,
       "version_minor": 0
      },
      "text/plain": [
       "FloatProgress(value=0.0, bar_style='info', description='Progress:', layout=Layout(height='25px', width='50%'),…"
      ]
     },
     "metadata": {},
     "output_type": "display_data"
    }
   ],
   "source": [
    "t = spark.createDataFrame(c3)"
   ]
  },
  {
   "cell_type": "code",
   "execution_count": 47,
   "metadata": {},
   "outputs": [
    {
     "data": {
      "application/vnd.jupyter.widget-view+json": {
       "model_id": "f424941fcac644fca9ddac283117ae56",
       "version_major": 2,
       "version_minor": 0
      },
      "text/plain": [
       "VBox()"
      ]
     },
     "metadata": {},
     "output_type": "display_data"
    },
    {
     "data": {
      "application/vnd.jupyter.widget-view+json": {
       "model_id": "",
       "version_major": 2,
       "version_minor": 0
      },
      "text/plain": [
       "FloatProgress(value=0.0, bar_style='info', description='Progress:', layout=Layout(height='25px', width='50%'),…"
      ]
     },
     "metadata": {},
     "output_type": "display_data"
    },
    {
     "name": "stdout",
     "output_type": "stream",
     "text": [
      "[Row(MovieID='1', Name='Dinosaur Planet', Year='2003'), Row(MovieID='2', Name='Isle of Man TT 2004 Review', Year='2004'), Row(MovieID='3', Name='Character', Year='1997'), Row(MovieID='4', Name=\"Paula Abdul's Get Up & Dance\", Year='1994'), Row(MovieID='5', Name='The Rise and Fall of ECW', Year='2004')]"
     ]
    }
   ],
   "source": [
    "t.head(5)"
   ]
  },
  {
   "cell_type": "code",
   "execution_count": 44,
   "metadata": {},
   "outputs": [
    {
     "data": {
      "application/vnd.jupyter.widget-view+json": {
       "model_id": "03126f84f99b4bc8b3931ad6f7967828",
       "version_major": 2,
       "version_minor": 0
      },
      "text/plain": [
       "VBox()"
      ]
     },
     "metadata": {},
     "output_type": "display_data"
    },
    {
     "data": {
      "application/vnd.jupyter.widget-view+json": {
       "model_id": "",
       "version_major": 2,
       "version_minor": 0
      },
      "text/plain": [
       "FloatProgress(value=0.0, bar_style='info', description='Progress:', layout=Layout(height='25px', width='50%'),…"
      ]
     },
     "metadata": {},
     "output_type": "display_data"
    }
   ],
   "source": [
    "from pyspark.sql.functions import udf"
   ]
  },
  {
   "cell_type": "code",
   "execution_count": null,
   "metadata": {},
   "outputs": [],
   "source": [
    "from pyspark.sql.types import StringType"
   ]
  },
  {
   "cell_type": "code",
   "execution_count": 48,
   "metadata": {},
   "outputs": [
    {
     "data": {
      "application/vnd.jupyter.widget-view+json": {
       "model_id": "21ab302c61724c1cba6384cfc6616e86",
       "version_major": 2,
       "version_minor": 0
      },
      "text/plain": [
       "VBox()"
      ]
     },
     "metadata": {},
     "output_type": "display_data"
    },
    {
     "data": {
      "application/vnd.jupyter.widget-view+json": {
       "model_id": "",
       "version_major": 2,
       "version_minor": 0
      },
      "text/plain": [
       "FloatProgress(value=0.0, bar_style='info', description='Progress:', layout=Layout(height='25px', width='50%'),…"
      ]
     },
     "metadata": {},
     "output_type": "display_data"
    }
   ],
   "source": [
    "df_title = t.select(\"*\").toPandas()"
   ]
  },
  {
   "cell_type": "code",
   "execution_count": 49,
   "metadata": {},
   "outputs": [
    {
     "data": {
      "application/vnd.jupyter.widget-view+json": {
       "model_id": "906e0393757e4e6d80406abb24d1547a",
       "version_major": 2,
       "version_minor": 0
      },
      "text/plain": [
       "VBox()"
      ]
     },
     "metadata": {},
     "output_type": "display_data"
    },
    {
     "data": {
      "application/vnd.jupyter.widget-view+json": {
       "model_id": "",
       "version_major": 2,
       "version_minor": 0
      },
      "text/plain": [
       "FloatProgress(value=0.0, bar_style='info', description='Progress:', layout=Layout(height='25px', width='50%'),…"
      ]
     },
     "metadata": {},
     "output_type": "display_data"
    },
    {
     "name": "stdout",
     "output_type": "stream",
     "text": [
      "  MovieID                          Name  Year\n",
      "0       1               Dinosaur Planet  2003\n",
      "1       2    Isle of Man TT 2004 Review  2004\n",
      "2       3                     Character  1997\n",
      "3       4  Paula Abdul's Get Up & Dance  1994\n",
      "4       5      The Rise and Fall of ECW  2004"
     ]
    }
   ],
   "source": [
    "df_title.head()"
   ]
  },
  {
   "cell_type": "code",
   "execution_count": 30,
   "metadata": {},
   "outputs": [
    {
     "data": {
      "application/vnd.jupyter.widget-view+json": {
       "model_id": "7c74648171344954bbddc16c1d4d3c1e",
       "version_major": 2,
       "version_minor": 0
      },
      "text/plain": [
       "VBox()"
      ]
     },
     "metadata": {},
     "output_type": "display_data"
    },
    {
     "data": {
      "application/vnd.jupyter.widget-view+json": {
       "model_id": "",
       "version_major": 2,
       "version_minor": 0
      },
      "text/plain": [
       "FloatProgress(value=0.0, bar_style='info', description='Progress:', layout=Layout(height='25px', width='50%'),…"
      ]
     },
     "metadata": {},
     "output_type": "display_data"
    },
    {
     "name": "stdout",
     "output_type": "stream",
     "text": [
      "Collecting surprise\n",
      "  Downloading surprise-0.1-py2.py3-none-any.whl (1.8 kB)\n",
      "Collecting scikit-surprise\n",
      "  Downloading scikit-surprise-1.1.0.tar.gz (6.4 MB)\n",
      "Collecting joblib>=0.11\n",
      "  Downloading joblib-0.14.1-py2.py3-none-any.whl (294 kB)\n",
      "Requirement already satisfied: numpy>=1.11.2 in /usr/local/lib64/python3.6/site-packages (from scikit-surprise->surprise) (1.14.5)\n",
      "Collecting scipy>=1.0.0\n",
      "  Downloading scipy-1.4.1-cp36-cp36m-manylinux1_x86_64.whl (26.1 MB)\n",
      "Requirement already satisfied: six>=1.10.0 in /usr/local/lib/python3.6/site-packages (from scikit-surprise->surprise) (1.13.0)\n",
      "Building wheels for collected packages: scikit-surprise\n",
      "  Building wheel for scikit-surprise (setup.py): started\n",
      "  Building wheel for scikit-surprise (setup.py): finished with status 'done'\n",
      "  Created wheel for scikit-surprise: filename=scikit_surprise-1.1.0-cp36-cp36m-linux_x86_64.whl size=1678711 sha256=17a43cc62485cc7bbc86e24ee2916822f69b8e88761b844d67a32cf427bfff2a\n",
      "  Stored in directory: /mnt/var/lib/livy/.cache/pip/wheels/f3/97/d9/6a242e5e3bb89377d4f575af72d14af0d54ebd90a525a4c2f9\n",
      "Successfully built scikit-surprise\n",
      "Installing collected packages: joblib, scipy, scikit-surprise, surprise\n",
      "Successfully installed joblib-0.14.1 scikit-surprise-1.1.0 scipy-1.4.1 surprise-0.1"
     ]
    }
   ],
   "source": [
    "sc.install_pypi_package(\"surprise\")"
   ]
  },
  {
   "cell_type": "code",
   "execution_count": 31,
   "metadata": {},
   "outputs": [
    {
     "data": {
      "application/vnd.jupyter.widget-view+json": {
       "model_id": "ef5c63df12ee4a94b8ec11d90bbaca72",
       "version_major": 2,
       "version_minor": 0
      },
      "text/plain": [
       "VBox()"
      ]
     },
     "metadata": {},
     "output_type": "display_data"
    },
    {
     "data": {
      "application/vnd.jupyter.widget-view+json": {
       "model_id": "",
       "version_major": 2,
       "version_minor": 0
      },
      "text/plain": [
       "FloatProgress(value=0.0, bar_style='info', description='Progress:', layout=Layout(height='25px', width='50%'),…"
      ]
     },
     "metadata": {},
     "output_type": "display_data"
    }
   ],
   "source": [
    "from surprise import Reader, Dataset, SVD, accuracy"
   ]
  },
  {
   "cell_type": "code",
   "execution_count": 33,
   "metadata": {},
   "outputs": [
    {
     "data": {
      "application/vnd.jupyter.widget-view+json": {
       "model_id": "715317fb092d4393a3489c02ebe4dbc7",
       "version_major": 2,
       "version_minor": 0
      },
      "text/plain": [
       "VBox()"
      ]
     },
     "metadata": {},
     "output_type": "display_data"
    },
    {
     "data": {
      "application/vnd.jupyter.widget-view+json": {
       "model_id": "",
       "version_major": 2,
       "version_minor": 0
      },
      "text/plain": [
       "FloatProgress(value=0.0, bar_style='info', description='Progress:', layout=Layout(height='25px', width='50%'),…"
      ]
     },
     "metadata": {},
     "output_type": "display_data"
    },
    {
     "name": "stdout",
     "output_type": "stream",
     "text": [
      "(28978, 1821)"
     ]
    }
   ],
   "source": [
    "train_p = pd.pivot_table(train,values='Rating',index='CustomerId',columns='MovieID')\n",
    "\n",
    "print(train_p.shape)"
   ]
  },
  {
   "cell_type": "code",
   "execution_count": 35,
   "metadata": {},
   "outputs": [
    {
     "data": {
      "application/vnd.jupyter.widget-view+json": {
       "model_id": "67fe5d25c1b24fde8982dbde0d1b5fa7",
       "version_major": 2,
       "version_minor": 0
      },
      "text/plain": [
       "VBox()"
      ]
     },
     "metadata": {},
     "output_type": "display_data"
    },
    {
     "data": {
      "application/vnd.jupyter.widget-view+json": {
       "model_id": "",
       "version_major": 2,
       "version_minor": 0
      },
      "text/plain": [
       "FloatProgress(value=0.0, bar_style='info', description='Progress:', layout=Layout(height='25px', width='50%'),…"
      ]
     },
     "metadata": {},
     "output_type": "display_data"
    },
    {
     "name": "stdout",
     "output_type": "stream",
     "text": [
      "Movie minimum times of review: 819.0\n",
      "Customer minimum times of review: 118.0"
     ]
    }
   ],
   "source": [
    "f = ['count','mean']\n",
    "\n",
    "df_movie_summary = train.groupby('MovieID')['Rating'].agg(f)\n",
    "df_movie_summary.index = df_movie_summary.index.map(int)\n",
    "movie_benchmark = round(df_movie_summary['count'].quantile(0.7),0)\n",
    "drop_movie_list = df_movie_summary[df_movie_summary['count'] < movie_benchmark].index\n",
    "\n",
    "print('Movie minimum times of review: {}'.format(movie_benchmark))\n",
    "\n",
    "df_cust_summary = train.groupby('CustomerId')['Rating'].agg(f)\n",
    "df_cust_summary.index = df_cust_summary.index.map(int)\n",
    "cust_benchmark = round(df_cust_summary['count'].quantile(0.7),0)\n",
    "drop_cust_list = df_cust_summary[df_cust_summary['count'] < cust_benchmark].index\n",
    "\n",
    "print('Customer minimum times of review: {}'.format(cust_benchmark))"
   ]
  },
  {
   "cell_type": "code",
   "execution_count": 50,
   "metadata": {},
   "outputs": [
    {
     "data": {
      "application/vnd.jupyter.widget-view+json": {
       "model_id": "0482685b272b4b4996bec06b1a24b755",
       "version_major": 2,
       "version_minor": 0
      },
      "text/plain": [
       "VBox()"
      ]
     },
     "metadata": {},
     "output_type": "display_data"
    },
    {
     "data": {
      "application/vnd.jupyter.widget-view+json": {
       "model_id": "",
       "version_major": 2,
       "version_minor": 0
      },
      "text/plain": [
       "FloatProgress(value=0.0, bar_style='info', description='Progress:', layout=Layout(height='25px', width='50%'),…"
      ]
     },
     "metadata": {},
     "output_type": "display_data"
    }
   ],
   "source": [
    "def recommend(movie_title, min_count):\n",
    "    print(\"For movie ({})\".format(movie_title))\n",
    "    print(\"- Top 10 movies recommended based on Pearsons'R correlation - \")\n",
    "    i = int(df_title.index[df_title['Name'] == movie_title][0])\n",
    "    target = train_p[i]\n",
    "    similar_to_target = train_p.corrwith(target)\n",
    "    corr_target = pd.DataFrame(similar_to_target, columns = ['PearsonR'])\n",
    "    corr_target.dropna(inplace = True)\n",
    "    corr_target = corr_target.sort_values('PearsonR', ascending = False)\n",
    "    corr_target.index = corr_target.index.map(int)\n",
    "    corr_target = corr_target.join(df_title).join(df_movie_summary)[['PearsonR', 'Name', 'count', 'mean']]\n",
    "    print(corr_target[corr_target['count']>min_count][:10].to_string(index=False))"
   ]
  },
  {
   "cell_type": "code",
   "execution_count": 55,
   "metadata": {},
   "outputs": [
    {
     "data": {
      "application/vnd.jupyter.widget-view+json": {
       "model_id": "ddc7f331586e45afa83be81e2730b209",
       "version_major": 2,
       "version_minor": 0
      },
      "text/plain": [
       "VBox()"
      ]
     },
     "metadata": {},
     "output_type": "display_data"
    },
    {
     "data": {
      "application/vnd.jupyter.widget-view+json": {
       "model_id": "",
       "version_major": 2,
       "version_minor": 0
      },
      "text/plain": [
       "FloatProgress(value=0.0, bar_style='info', description='Progress:', layout=Layout(height='25px', width='50%'),…"
      ]
     },
     "metadata": {},
     "output_type": "display_data"
    },
    {
     "name": "stderr",
     "output_type": "stream",
     "text": [
      "positional argument follows keyword argument (<stdin>, line 1)\n",
      "  File \"<stdin>\", line 1\n",
      "SyntaxError: positional argument follows keyword argument\n",
      "\n"
     ]
    }
   ],
   "source": [
    "recommend(a=\"Dinosaur Planet\", 0)"
   ]
  },
  {
   "cell_type": "code",
   "execution_count": 56,
   "metadata": {},
   "outputs": [
    {
     "data": {
      "application/vnd.jupyter.widget-view+json": {
       "model_id": "1be5beebe8d449729e0e32644f28023c",
       "version_major": 2,
       "version_minor": 0
      },
      "text/plain": [
       "VBox()"
      ]
     },
     "metadata": {},
     "output_type": "display_data"
    },
    {
     "data": {
      "application/vnd.jupyter.widget-view+json": {
       "model_id": "",
       "version_major": 2,
       "version_minor": 0
      },
      "text/plain": [
       "FloatProgress(value=0.0, bar_style='info', description='Progress:', layout=Layout(height='25px', width='50%'),…"
      ]
     },
     "metadata": {},
     "output_type": "display_data"
    }
   ],
   "source": [
    "from surprise import KNNBasic,KNNBaseline,KNNWithMeans,KNNWithZScore"
   ]
  },
  {
   "cell_type": "code",
   "execution_count": 58,
   "metadata": {},
   "outputs": [
    {
     "data": {
      "application/vnd.jupyter.widget-view+json": {
       "model_id": "1a82578d99334d82807fc3a466bb0473",
       "version_major": 2,
       "version_minor": 0
      },
      "text/plain": [
       "VBox()"
      ]
     },
     "metadata": {},
     "output_type": "display_data"
    },
    {
     "data": {
      "application/vnd.jupyter.widget-view+json": {
       "model_id": "",
       "version_major": 2,
       "version_minor": 0
      },
      "text/plain": [
       "FloatProgress(value=0.0, bar_style='info', description='Progress:', layout=Layout(height='25px', width='50%'),…"
      ]
     },
     "metadata": {},
     "output_type": "display_data"
    }
   ],
   "source": [
    "reader = Reader()\n",
    "\n",
    "\n",
    "data = Dataset.load_from_df(train[[ 'MovieID','CustomerId','Rating']][:100000], reader)"
   ]
  },
  {
   "cell_type": "code",
   "execution_count": 59,
   "metadata": {},
   "outputs": [
    {
     "data": {
      "application/vnd.jupyter.widget-view+json": {
       "model_id": "8a57194ea4e34fae8e4a7ce056fc6828",
       "version_major": 2,
       "version_minor": 0
      },
      "text/plain": [
       "VBox()"
      ]
     },
     "metadata": {},
     "output_type": "display_data"
    },
    {
     "data": {
      "application/vnd.jupyter.widget-view+json": {
       "model_id": "",
       "version_major": 2,
       "version_minor": 0
      },
      "text/plain": [
       "FloatProgress(value=0.0, bar_style='info', description='Progress:', layout=Layout(height='25px', width='50%'),…"
      ]
     },
     "metadata": {},
     "output_type": "display_data"
    }
   ],
   "source": [
    "trainingSet = data.build_full_trainset()"
   ]
  },
  {
   "cell_type": "code",
   "execution_count": 60,
   "metadata": {},
   "outputs": [
    {
     "data": {
      "application/vnd.jupyter.widget-view+json": {
       "model_id": "9d281bb9f4d945b8875373d420dd23d1",
       "version_major": 2,
       "version_minor": 0
      },
      "text/plain": [
       "VBox()"
      ]
     },
     "metadata": {},
     "output_type": "display_data"
    },
    {
     "data": {
      "application/vnd.jupyter.widget-view+json": {
       "model_id": "",
       "version_major": 2,
       "version_minor": 0
      },
      "text/plain": [
       "FloatProgress(value=0.0, bar_style='info', description='Progress:', layout=Layout(height='25px', width='50%'),…"
      ]
     },
     "metadata": {},
     "output_type": "display_data"
    }
   ],
   "source": [
    "from surprise.model_selection import cross_validate"
   ]
  },
  {
   "cell_type": "code",
   "execution_count": 61,
   "metadata": {},
   "outputs": [
    {
     "data": {
      "application/vnd.jupyter.widget-view+json": {
       "model_id": "ef48c42e6b2240d496c4cba56460212b",
       "version_major": 2,
       "version_minor": 0
      },
      "text/plain": [
       "VBox()"
      ]
     },
     "metadata": {},
     "output_type": "display_data"
    },
    {
     "data": {
      "application/vnd.jupyter.widget-view+json": {
       "model_id": "",
       "version_major": 2,
       "version_minor": 0
      },
      "text/plain": [
       "FloatProgress(value=0.0, bar_style='info', description='Progress:', layout=Layout(height='25px', width='50%'),…"
      ]
     },
     "metadata": {},
     "output_type": "display_data"
    },
    {
     "name": "stdout",
     "output_type": "stream",
     "text": [
      "Estimating biases using als...\n",
      "Computing the msd similarity matrix...\n",
      "Done computing similarity matrix.\n",
      "Estimating biases using als...\n",
      "Computing the msd similarity matrix...\n",
      "Done computing similarity matrix.\n",
      "Estimating biases using als...\n",
      "Computing the msd similarity matrix...\n",
      "Done computing similarity matrix.\n",
      "Computing the msd similarity matrix...\n",
      "Done computing similarity matrix.\n",
      "Computing the msd similarity matrix...\n",
      "Done computing similarity matrix.\n",
      "Computing the msd similarity matrix...\n",
      "Done computing similarity matrix.\n",
      "Computing the msd similarity matrix...\n",
      "Done computing similarity matrix.\n",
      "Computing the msd similarity matrix...\n",
      "Done computing similarity matrix.\n",
      "Computing the msd similarity matrix...\n",
      "Done computing similarity matrix.\n",
      "Computing the msd similarity matrix...\n",
      "Done computing similarity matrix.\n",
      "Computing the msd similarity matrix...\n",
      "Done computing similarity matrix.\n",
      "Computing the msd similarity matrix...\n",
      "Done computing similarity matrix.\n",
      "               test_rmse  fit_time  test_time\n",
      "Algorithm                                    \n",
      "SVD             0.997423  4.648572   0.290485\n",
      "KNNBaseline     1.077750  0.162145   0.575067\n",
      "KNNWithMeans    1.086745  0.032040   0.512260\n",
      "KNNWithZScore   1.088010  0.059576   0.494679\n",
      "KNNBasic        1.174297  0.021458   0.434254"
     ]
    }
   ],
   "source": [
    "benchmark = []\n",
    "# Iterate over all algorithms\n",
    "for algorithm in [SVD(), KNNBaseline(), KNNBasic(), KNNWithMeans(), KNNWithZScore()]:\n",
    "    # Perform cross validation\n",
    "    results = cross_validate(algorithm, data, measures=['RMSE'], cv=3, verbose=False)\n",
    "    \n",
    "    # Get results & append algorithm name\n",
    "    tmp = pd.DataFrame.from_dict(results).mean(axis=0)\n",
    "    tmp = tmp.append(pd.Series([str(algorithm).split(' ')[0].split('.')[-1]], index=['Algorithm']))\n",
    "    benchmark.append(tmp)\n",
    "    \n",
    "pd.DataFrame(benchmark).set_index('Algorithm').sort_values('test_rmse') "
   ]
  },
  {
   "cell_type": "code",
   "execution_count": 62,
   "metadata": {},
   "outputs": [
    {
     "data": {
      "application/vnd.jupyter.widget-view+json": {
       "model_id": "5f3e888a0836442cb888f7cbec6babb5",
       "version_major": 2,
       "version_minor": 0
      },
      "text/plain": [
       "VBox()"
      ]
     },
     "metadata": {},
     "output_type": "display_data"
    },
    {
     "data": {
      "application/vnd.jupyter.widget-view+json": {
       "model_id": "",
       "version_major": 2,
       "version_minor": 0
      },
      "text/plain": [
       "FloatProgress(value=0.0, bar_style='info', description='Progress:', layout=Layout(height='25px', width='50%'),…"
      ]
     },
     "metadata": {},
     "output_type": "display_data"
    },
    {
     "name": "stdout",
     "output_type": "stream",
     "text": [
      "0.9956788718966054\n",
      "{'n_epochs': 10, 'lr_all': 0.005, 'reg_all': 0.4}"
     ]
    }
   ],
   "source": [
    "from surprise import SVD\n",
    "from surprise import Dataset\n",
    "from surprise.model_selection import GridSearchCV\n",
    "\n",
    "\n",
    "\n",
    "param_grid = {\n",
    "    \"n_epochs\": [5, 10],\n",
    "    \"lr_all\": [0.002, 0.005],\n",
    "    \"reg_all\": [0.4, 0.6]\n",
    "}\n",
    "gs = GridSearchCV(SVD, param_grid, measures=[\"rmse\", \"mae\"], cv=3)\n",
    "\n",
    "gs.fit(data)\n",
    "\n",
    "print(gs.best_score[\"rmse\"])\n",
    "print(gs.best_params[\"rmse\"])"
   ]
  },
  {
   "cell_type": "code",
   "execution_count": 64,
   "metadata": {},
   "outputs": [
    {
     "data": {
      "application/vnd.jupyter.widget-view+json": {
       "model_id": "167a2af0b1974ec480516fe78c441e27",
       "version_major": 2,
       "version_minor": 0
      },
      "text/plain": [
       "VBox()"
      ]
     },
     "metadata": {},
     "output_type": "display_data"
    },
    {
     "name": "stderr",
     "output_type": "stream",
     "text": [
      "An error was encountered:\n",
      "Session 10 unexpectedly reached final status 'error'. See logs:\n",
      "stdout: \n",
      "\n",
      "stderr: \n",
      "20/05/13 04:18:42 INFO ContextCleaner: Cleaned accumulator 272\n",
      "20/05/13 04:18:42 INFO ContextCleaner: Cleaned accumulator 233\n",
      "20/05/13 04:18:42 INFO ContextCleaner: Cleaned accumulator 195\n",
      "20/05/13 04:18:42 INFO ContextCleaner: Cleaned accumulator 275\n",
      "20/05/13 04:18:42 INFO ContextCleaner: Cleaned accumulator 237\n",
      "20/05/13 04:18:42 INFO ContextCleaner: Cleaned accumulator 198\n",
      "20/05/13 04:18:42 INFO ContextCleaner: Cleaned accumulator 355\n",
      "20/05/13 04:18:42 INFO ContextCleaner: Cleaned accumulator 201\n",
      "20/05/13 04:18:42 INFO ContextCleaner: Cleaned accumulator 352\n",
      "20/05/13 04:18:42 INFO ContextCleaner: Cleaned accumulator 302\n",
      "20/05/13 04:18:42 INFO ContextCleaner: Cleaned accumulator 301\n",
      "20/05/13 04:18:42 INFO ContextCleaner: Cleaned accumulator 257\n",
      "20/05/13 04:18:42 INFO ContextCleaner: Cleaned accumulator 327\n",
      "20/05/13 04:18:42 INFO ContextCleaner: Cleaned accumulator 263\n",
      "20/05/13 04:18:42 INFO ContextCleaner: Cleaned accumulator 259\n",
      "20/05/13 04:18:42 INFO ContextCleaner: Cleaned accumulator 334\n",
      "20/05/13 04:18:42 INFO ContextCleaner: Cleaned accumulator 354\n",
      "20/05/13 04:18:42 INFO BlockManagerInfo: Removed broadcast_17_piece0 on ip-172-31-41-27.ec2.internal:39607 in memory (size: 10.1 KB, free: 1028.7 MB)\n",
      "20/05/13 04:18:42 INFO ContextCleaner: Cleaned accumulator 323\n",
      "20/05/13 04:18:42 INFO ContextCleaner: Cleaned accumulator 200\n",
      "20/05/13 04:18:42 INFO ContextCleaner: Cleaned accumulator 267\n",
      "20/05/13 04:18:42 INFO ContextCleaner: Cleaned accumulator 214\n",
      "20/05/13 04:18:42 INFO ContextCleaner: Cleaned accumulator 325\n",
      "20/05/13 04:18:42 INFO ContextCleaner: Cleaned accumulator 203\n",
      "20/05/13 04:18:42 INFO ContextCleaner: Cleaned accumulator 291\n",
      "20/05/13 04:18:42 INFO ContextCleaner: Cleaned accumulator 227\n",
      "20/05/13 04:18:42 INFO ContextCleaner: Cleaned accumulator 313\n",
      "20/05/13 04:18:42 INFO ContextCleaner: Cleaned accumulator 216\n",
      "20/05/13 04:18:42 INFO ContextCleaner: Cleaned accumulator 345\n",
      "20/05/13 04:18:42 INFO BlockManagerInfo: Removed broadcast_11_piece0 on ip-172-31-41-27.ec2.internal:39607 in memory (size: 6.8 KB, free: 1028.7 MB)\n",
      "20/05/13 04:18:42 INFO ContextCleaner: Cleaned accumulator 277\n",
      "20/05/13 04:18:42 INFO ContextCleaner: Cleaned accumulator 316\n",
      "20/05/13 04:18:42 INFO ContextCleaner: Cleaned accumulator 194\n",
      "20/05/13 04:24:21 INFO FileSourceStrategy: Pruning directories with: \n",
      "20/05/13 04:24:21 INFO FileSourceStrategy: Post-Scan Filters: \n",
      "20/05/13 04:24:21 INFO FileSourceStrategy: Output Data Schema: struct<value: string>\n",
      "20/05/13 04:24:21 INFO FileSourceScanExec: Pushed Filters: \n",
      "20/05/13 04:24:21 INFO MemoryStore: Block broadcast_18 stored as values in memory (estimated size 321.5 KB, free 1026.8 MB)\n",
      "20/05/13 04:24:21 INFO MemoryStore: Block broadcast_18_piece0 stored as bytes in memory (estimated size 27.9 KB, free 1026.8 MB)\n",
      "20/05/13 04:24:21 INFO BlockManagerInfo: Added broadcast_18_piece0 in memory on ip-172-31-41-27.ec2.internal:39607 (size: 27.9 KB, free: 1028.7 MB)\n",
      "20/05/13 04:24:21 INFO SparkContext: Created broadcast 18 from javaToPython at NativeMethodAccessorImpl.java:0\n",
      "20/05/13 04:24:21 INFO FileSourceScanExec: Planning scan with bin packing, max size: 4194304 bytes, open cost is considered as scanning 4194304 bytes, number of split files: 1, prefetch: false\n",
      "20/05/13 04:24:21 INFO FileSourceScanExec: relation: None, fileSplitsInPartitionHistogram: ArrayBuffer((1 fileSplits,1))\n",
      "20/05/13 04:24:31 INFO SparkContext: Starting job: runJob at PythonRDD.scala:153\n",
      "20/05/13 04:24:31 INFO DAGScheduler: Got job 13 (runJob at PythonRDD.scala:153) with 1 output partitions\n",
      "20/05/13 04:24:31 INFO DAGScheduler: Final stage: ResultStage 13 (runJob at PythonRDD.scala:153)\n",
      "20/05/13 04:24:31 INFO DAGScheduler: Parents of final stage: List()\n",
      "20/05/13 04:24:31 INFO DAGScheduler: Missing parents: List()\n",
      "20/05/13 04:24:31 INFO DAGScheduler: Submitting ResultStage 13 (PythonRDD[66] at RDD at PythonRDD.scala:53), which has no missing parents\n",
      "20/05/13 04:24:31 INFO MemoryStore: Block broadcast_19 stored as values in memory (estimated size 11.6 KB, free 1026.8 MB)\n",
      "20/05/13 04:24:31 INFO MemoryStore: Block broadcast_19_piece0 stored as bytes in memory (estimated size 6.8 KB, free 1026.8 MB)\n",
      "20/05/13 04:24:31 INFO BlockManagerInfo: Added broadcast_19_piece0 in memory on ip-172-31-41-27.ec2.internal:39607 (size: 6.8 KB, free: 1028.7 MB)\n",
      "20/05/13 04:24:31 INFO SparkContext: Created broadcast 19 from broadcast at DAGScheduler.scala:1201\n",
      "20/05/13 04:24:31 INFO DAGScheduler: Submitting 1 missing tasks from ResultStage 13 (PythonRDD[66] at RDD at PythonRDD.scala:53) (first 15 tasks are for partitions Vector(0))\n",
      "20/05/13 04:24:31 INFO YarnScheduler: Adding task set 13.0 with 1 tasks\n",
      "20/05/13 04:24:32 INFO ExecutorAllocationManager: Requesting 1 new executor because tasks are backlogged (new desired total will be 1)\n",
      "20/05/13 04:24:35 INFO YarnSchedulerBackend$YarnDriverEndpoint: Registered executor NettyRpcEndpointRef(spark-client://Executor) (172.31.37.225:53522) with ID 9\n",
      "20/05/13 04:24:35 INFO ExecutorAllocationManager: New executor 9 has registered (new total is 1)\n",
      "20/05/13 04:24:35 INFO TaskSetManager: Starting task 0.0 in stage 13.0 (TID 23, ip-172-31-37-225.ec2.internal, executor 9, partition 0, RACK_LOCAL, 8289 bytes)\n",
      "20/05/13 04:24:36 INFO BlockManagerMasterEndpoint: Registering block manager ip-172-31-37-225.ec2.internal:42667 with 5.4 GB RAM, BlockManagerId(9, ip-172-31-37-225.ec2.internal, 42667, None)\n",
      "20/05/13 04:24:36 INFO BlockManagerInfo: Added broadcast_19_piece0 in memory on ip-172-31-37-225.ec2.internal:42667 (size: 6.8 KB, free: 5.4 GB)\n",
      "20/05/13 04:24:55 INFO BlockManagerInfo: Added broadcast_18_piece0 in memory on ip-172-31-37-225.ec2.internal:42667 (size: 27.9 KB, free: 5.4 GB)\n",
      "20/05/13 04:24:57 INFO TaskSetManager: Finished task 0.0 in stage 13.0 (TID 23) in 21139 ms on ip-172-31-37-225.ec2.internal (executor 9) (1/1)\n",
      "20/05/13 04:24:57 INFO YarnScheduler: Removed TaskSet 13.0, whose tasks have all completed, from pool \n",
      "20/05/13 04:24:57 INFO DAGScheduler: ResultStage 13 (runJob at PythonRDD.scala:153) finished in 25.822 s\n",
      "20/05/13 04:24:57 INFO DAGScheduler: Job 13 finished: runJob at PythonRDD.scala:153, took 25.824012 s\n",
      "20/05/13 04:25:04 INFO SparkContext: Starting job: head at <stdin>:1\n",
      "20/05/13 04:25:04 INFO DAGScheduler: Got job 14 (head at <stdin>:1) with 1 output partitions\n",
      "20/05/13 04:25:04 INFO DAGScheduler: Final stage: ResultStage 14 (head at <stdin>:1)\n",
      "20/05/13 04:25:04 INFO DAGScheduler: Parents of final stage: List()\n",
      "20/05/13 04:25:04 INFO DAGScheduler: Missing parents: List()\n",
      "20/05/13 04:25:04 INFO DAGScheduler: Submitting ResultStage 14 (MapPartitionsRDD[73] at head at <stdin>:1), which has no missing parents\n",
      "20/05/13 04:25:04 INFO MemoryStore: Block broadcast_20 stored as values in memory (estimated size 17.8 KB, free 1026.8 MB)\n",
      "20/05/13 04:25:04 INFO MemoryStore: Block broadcast_20_piece0 stored as bytes in memory (estimated size 10.0 KB, free 1026.8 MB)\n",
      "20/05/13 04:25:04 INFO BlockManagerInfo: Added broadcast_20_piece0 in memory on ip-172-31-41-27.ec2.internal:39607 (size: 10.0 KB, free: 1028.7 MB)\n",
      "20/05/13 04:25:04 INFO SparkContext: Created broadcast 20 from broadcast at DAGScheduler.scala:1201\n",
      "20/05/13 04:25:04 INFO DAGScheduler: Submitting 1 missing tasks from ResultStage 14 (MapPartitionsRDD[73] at head at <stdin>:1) (first 15 tasks are for partitions Vector(0))\n",
      "20/05/13 04:25:04 INFO YarnScheduler: Adding task set 14.0 with 1 tasks\n",
      "20/05/13 04:25:04 INFO TaskSetManager: Starting task 0.0 in stage 14.0 (TID 24, ip-172-31-37-225.ec2.internal, executor 9, partition 0, RACK_LOCAL, 8289 bytes)\n",
      "20/05/13 04:25:04 INFO BlockManagerInfo: Added broadcast_20_piece0 in memory on ip-172-31-37-225.ec2.internal:42667 (size: 10.0 KB, free: 5.4 GB)\n",
      "20/05/13 04:25:04 INFO TaskSetManager: Finished task 0.0 in stage 14.0 (TID 24) in 327 ms on ip-172-31-37-225.ec2.internal (executor 9) (1/1)\n",
      "20/05/13 04:25:04 INFO YarnScheduler: Removed TaskSet 14.0, whose tasks have all completed, from pool \n",
      "20/05/13 04:25:04 INFO DAGScheduler: ResultStage 14 (head at <stdin>:1) finished in 0.334 s\n",
      "20/05/13 04:25:04 INFO DAGScheduler: Job 14 finished: head at <stdin>:1, took 0.336972 s\n",
      "20/05/13 04:25:21 INFO SparkContext: Starting job: toPandas at <stdin>:1\n",
      "20/05/13 04:25:21 INFO DAGScheduler: Got job 15 (toPandas at <stdin>:1) with 1 output partitions\n",
      "20/05/13 04:25:21 INFO DAGScheduler: Final stage: ResultStage 15 (toPandas at <stdin>:1)\n",
      "20/05/13 04:25:21 INFO DAGScheduler: Parents of final stage: List()\n",
      "20/05/13 04:25:21 INFO DAGScheduler: Missing parents: List()\n",
      "20/05/13 04:25:21 INFO DAGScheduler: Submitting ResultStage 15 (MapPartitionsRDD[75] at toPandas at <stdin>:1), which has no missing parents\n",
      "20/05/13 04:25:21 INFO MemoryStore: Block broadcast_21 stored as values in memory (estimated size 17.8 KB, free 1026.7 MB)\n",
      "20/05/13 04:25:21 INFO MemoryStore: Block broadcast_21_piece0 stored as bytes in memory (estimated size 10.1 KB, free 1026.7 MB)\n",
      "20/05/13 04:25:21 INFO BlockManagerInfo: Added broadcast_21_piece0 in memory on ip-172-31-41-27.ec2.internal:39607 (size: 10.1 KB, free: 1028.7 MB)\n",
      "20/05/13 04:25:21 INFO SparkContext: Created broadcast 21 from broadcast at DAGScheduler.scala:1201\n",
      "20/05/13 04:25:21 INFO DAGScheduler: Submitting 1 missing tasks from ResultStage 15 (MapPartitionsRDD[75] at toPandas at <stdin>:1) (first 15 tasks are for partitions Vector(0))\n",
      "20/05/13 04:25:21 INFO YarnScheduler: Adding task set 15.0 with 1 tasks\n",
      "20/05/13 04:25:21 INFO TaskSetManager: Starting task 0.0 in stage 15.0 (TID 25, ip-172-31-37-225.ec2.internal, executor 9, partition 0, RACK_LOCAL, 8289 bytes)\n",
      "20/05/13 04:25:21 INFO BlockManagerInfo: Added broadcast_21_piece0 in memory on ip-172-31-37-225.ec2.internal:42667 (size: 10.1 KB, free: 5.4 GB)\n"
     ]
    }
   ],
   "source": [
    "from surprise import KNNBaseline\n",
    "from surprise import Dataset\n",
    "from surprise.model_selection import GridSearchCV\n",
    "\n",
    "\n",
    "sim_options = {\n",
    "    \"name\": [\"msd\", \"cosine\"],\n",
    "    \"min_support\": [3, 4, 5],\n",
    "    \"user_based\": [False, True],\n",
    "}\n",
    "\n",
    "param_grid = {\"sim_options\": sim_options}\n",
    "\n",
    "gs = GridSearchCV(KNNBaseline, param_grid, measures=[\"rmse\", \"mae\"], cv=3)\n",
    "gs.fit(data)\n",
    "\n",
    "print(gs.best_score[\"rmse\"])\n",
    "print(gs.best_params[\"rmse\"])"
   ]
  },
  {
   "cell_type": "code",
   "execution_count": null,
   "metadata": {},
   "outputs": [],
   "source": []
  }
 ],
 "metadata": {
  "kernelspec": {
   "display_name": "PySpark",
   "language": "",
   "name": "pysparkkernel"
  },
  "language_info": {
   "codemirror_mode": {
    "name": "python",
    "version": 2
   },
   "mimetype": "text/x-python",
   "name": "pyspark",
   "pygments_lexer": "python2"
  }
 },
 "nbformat": 4,
 "nbformat_minor": 4
}
